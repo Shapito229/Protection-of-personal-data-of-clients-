{
 "cells": [
  {
   "cell_type": "markdown",
   "metadata": {
    "toc": true
   },
   "source": [
    "<h1>Содержание<span class=\"tocSkip\"></span></h1>\n",
    "<div class=\"toc\"><ul class=\"toc-item\"><li><span><a href=\"#Загрузка-данных\" data-toc-modified-id=\"Загрузка-данных-1\"><span class=\"toc-item-num\">1&nbsp;&nbsp;</span>Загрузка данных</a></span></li><li><span><a href=\"#Умножение-матриц\" data-toc-modified-id=\"Умножение-матриц-2\"><span class=\"toc-item-num\">2&nbsp;&nbsp;</span>Умножение матриц</a></span></li><li><span><a href=\"#Алгоритм-преобразования\" data-toc-modified-id=\"Алгоритм-преобразования-3\"><span class=\"toc-item-num\">3&nbsp;&nbsp;</span>Алгоритм преобразования</a></span></li><li><span><a href=\"#Проверка-алгоритма\" data-toc-modified-id=\"Проверка-алгоритма-4\"><span class=\"toc-item-num\">4&nbsp;&nbsp;</span>Проверка алгоритма</a></span></li><li><span><a href=\"#Вывод\" data-toc-modified-id=\"Вывод-5\"><span class=\"toc-item-num\">5&nbsp;&nbsp;</span>Вывод</a></span></li><li><span><a href=\"#Чек-лист-проверки\" data-toc-modified-id=\"Чек-лист-проверки-6\"><span class=\"toc-item-num\">6&nbsp;&nbsp;</span>Чек-лист проверки</a></span></li></ul></div>"
   ]
  },
  {
   "cell_type": "markdown",
   "metadata": {},
   "source": [
    "# Защита персональных данных клиентов"
   ]
  },
  {
   "cell_type": "markdown",
   "metadata": {},
   "source": [
    "Вам нужно защитить данные клиентов страховой компании «Хоть потоп». Разработайте такой метод преобразования данных, чтобы по ним было сложно восстановить персональную информацию. Обоснуйте корректность его работы.\n",
    "\n",
    "Нужно защитить данные, чтобы при преобразовании качество моделей машинного обучения не ухудшилось. Подбирать наилучшую модель не требуется."
   ]
  },
  {
   "cell_type": "markdown",
   "metadata": {},
   "source": [
    "## Загрузка данных"
   ]
  },
  {
   "cell_type": "code",
   "execution_count": 1,
   "metadata": {},
   "outputs": [],
   "source": [
    "import pandas as pd\n",
    "import numpy as np\n",
    "import seaborn as sns\n",
    "import warnings\n",
    "from IPython.display import display\n",
    "from sklearn.metrics import mean_absolute_error\n",
    "from sklearn.linear_model import LinearRegression\n",
    "import matplotlib.pyplot as plt\n",
    "from sklearn.metrics import r2_score"
   ]
  },
  {
   "cell_type": "code",
   "execution_count": 2,
   "metadata": {},
   "outputs": [],
   "source": [
    "warnings.filterwarnings(\"ignore\")"
   ]
  },
  {
   "cell_type": "code",
   "execution_count": 3,
   "metadata": {},
   "outputs": [
    {
     "data": {
      "text/html": [
       "<div>\n",
       "<style scoped>\n",
       "    .dataframe tbody tr th:only-of-type {\n",
       "        vertical-align: middle;\n",
       "    }\n",
       "\n",
       "    .dataframe tbody tr th {\n",
       "        vertical-align: top;\n",
       "    }\n",
       "\n",
       "    .dataframe thead th {\n",
       "        text-align: right;\n",
       "    }\n",
       "</style>\n",
       "<table border=\"1\" class=\"dataframe\">\n",
       "  <thead>\n",
       "    <tr style=\"text-align: right;\">\n",
       "      <th></th>\n",
       "      <th>Пол</th>\n",
       "      <th>Возраст</th>\n",
       "      <th>Зарплата</th>\n",
       "      <th>Члены семьи</th>\n",
       "      <th>Страховые выплаты</th>\n",
       "    </tr>\n",
       "  </thead>\n",
       "  <tbody>\n",
       "    <tr>\n",
       "      <td>0</td>\n",
       "      <td>1</td>\n",
       "      <td>41.0</td>\n",
       "      <td>49600.0</td>\n",
       "      <td>1</td>\n",
       "      <td>0</td>\n",
       "    </tr>\n",
       "    <tr>\n",
       "      <td>1</td>\n",
       "      <td>0</td>\n",
       "      <td>46.0</td>\n",
       "      <td>38000.0</td>\n",
       "      <td>1</td>\n",
       "      <td>1</td>\n",
       "    </tr>\n",
       "    <tr>\n",
       "      <td>2</td>\n",
       "      <td>0</td>\n",
       "      <td>29.0</td>\n",
       "      <td>21000.0</td>\n",
       "      <td>0</td>\n",
       "      <td>0</td>\n",
       "    </tr>\n",
       "    <tr>\n",
       "      <td>3</td>\n",
       "      <td>0</td>\n",
       "      <td>21.0</td>\n",
       "      <td>41700.0</td>\n",
       "      <td>2</td>\n",
       "      <td>0</td>\n",
       "    </tr>\n",
       "    <tr>\n",
       "      <td>4</td>\n",
       "      <td>1</td>\n",
       "      <td>28.0</td>\n",
       "      <td>26100.0</td>\n",
       "      <td>0</td>\n",
       "      <td>0</td>\n",
       "    </tr>\n",
       "  </tbody>\n",
       "</table>\n",
       "</div>"
      ],
      "text/plain": [
       "   Пол  Возраст  Зарплата  Члены семьи  Страховые выплаты\n",
       "0    1     41.0   49600.0            1                  0\n",
       "1    0     46.0   38000.0            1                  1\n",
       "2    0     29.0   21000.0            0                  0\n",
       "3    0     21.0   41700.0            2                  0\n",
       "4    1     28.0   26100.0            0                  0"
      ]
     },
     "metadata": {},
     "output_type": "display_data"
    }
   ],
   "source": [
    "data=pd.read_csv('/datasets/insurance.csv')\n",
    "display(data.head())"
   ]
  },
  {
   "cell_type": "code",
   "execution_count": 4,
   "metadata": {},
   "outputs": [
    {
     "name": "stdout",
     "output_type": "stream",
     "text": [
      "**Общая информация датафрейма**\n",
      "<class 'pandas.core.frame.DataFrame'>\n",
      "RangeIndex: 5000 entries, 0 to 4999\n",
      "Data columns (total 5 columns):\n",
      "Пол                  5000 non-null int64\n",
      "Возраст              5000 non-null float64\n",
      "Зарплата             5000 non-null float64\n",
      "Члены семьи          5000 non-null int64\n",
      "Страховые выплаты    5000 non-null int64\n",
      "dtypes: float64(2), int64(3)\n",
      "memory usage: 195.4 KB\n",
      "None\n",
      "-------------------------------------------------------------------------------------------------------------\n",
      "**Просмотр статистических данных**\n",
      "               Пол      Возраст      Зарплата  Члены семьи  Страховые выплаты\n",
      "count  5000.000000  5000.000000   5000.000000  5000.000000        5000.000000\n",
      "mean      0.499000    30.952800  39916.360000     1.194200           0.148000\n",
      "std       0.500049     8.440807   9900.083569     1.091387           0.463183\n",
      "min       0.000000    18.000000   5300.000000     0.000000           0.000000\n",
      "25%       0.000000    24.000000  33300.000000     0.000000           0.000000\n",
      "50%       0.000000    30.000000  40200.000000     1.000000           0.000000\n",
      "75%       1.000000    37.000000  46600.000000     2.000000           0.000000\n",
      "max       1.000000    65.000000  79000.000000     6.000000           5.000000\n",
      "-------------------------------------------------------------------------------------------------------------\n",
      "**Вывод рандомных строк датафрейма**\n",
      "      Пол  Возраст  Зарплата  Члены семьи  Страховые выплаты\n",
      "2764    0     26.0   24500.0            0                  0\n",
      "4767    0     24.0   32100.0            1                  0\n",
      "3814    0     33.0   17800.0            3                  0\n",
      "-------------------------------------------------------------------------------------------------------------\n",
      "**Вывод первых пяти строк датафрейма**\n",
      "   Пол  Возраст  Зарплата  Члены семьи  Страховые выплаты\n",
      "0    1     41.0   49600.0            1                  0\n",
      "1    0     46.0   38000.0            1                  1\n",
      "2    0     29.0   21000.0            0                  0\n",
      "3    0     21.0   41700.0            2                  0\n",
      "4    1     28.0   26100.0            0                  0\n",
      "-------------------------------------------------------------------------------------------------------------\n",
      "**Вывод количесва дубликатов датафрейма**\n",
      "153\n",
      "-------------------------------------------------------------------------------------------------------------\n",
      "**Вывод количесва пропущеных значений датафрейма**\n",
      "Пол                  0\n",
      "Возраст              0\n",
      "Зарплата             0\n",
      "Члены семьи          0\n",
      "Страховые выплаты    0\n",
      "dtype: int64\n",
      "-------------------------------------------------------------------------------------------------------------\n",
      "None\n"
     ]
    }
   ],
   "source": [
    "def fun_date(data):\n",
    "    print('**Общая информация датафрейма**')\n",
    "    print(data.info())\n",
    "    print('-------------------------------------------------------------------------------------------------------------')\n",
    "    print('**Просмотр статистических данных**')\n",
    "    print(data.describe())\n",
    "    print('-------------------------------------------------------------------------------------------------------------')\n",
    "    print('**Вывод рандомных строк датафрейма**')\n",
    "    print(data.sample(n=3, random_state=1))\n",
    "    print('-------------------------------------------------------------------------------------------------------------')\n",
    "    print('**Вывод первых пяти строк датафрейма**')\n",
    "    print(data.head())\n",
    "    print('-------------------------------------------------------------------------------------------------------------')\n",
    "    print('**Вывод количесва дубликатов датафрейма**')\n",
    "    print(data.duplicated().sum())\n",
    "    print('-------------------------------------------------------------------------------------------------------------')\n",
    "    print('**Вывод количесва пропущеных значений датафрейма**')\n",
    "    print(data.isnull().sum())\n",
    "    print('-------------------------------------------------------------------------------------------------------------')\n",
    "print(fun_date(data))"
   ]
  },
  {
   "cell_type": "code",
   "execution_count": 5,
   "metadata": {},
   "outputs": [
    {
     "data": {
      "text/html": [
       "<div>\n",
       "<style scoped>\n",
       "    .dataframe tbody tr th:only-of-type {\n",
       "        vertical-align: middle;\n",
       "    }\n",
       "\n",
       "    .dataframe tbody tr th {\n",
       "        vertical-align: top;\n",
       "    }\n",
       "\n",
       "    .dataframe thead th {\n",
       "        text-align: right;\n",
       "    }\n",
       "</style>\n",
       "<table border=\"1\" class=\"dataframe\">\n",
       "  <thead>\n",
       "    <tr style=\"text-align: right;\">\n",
       "      <th></th>\n",
       "      <th>Пол</th>\n",
       "      <th>Возраст</th>\n",
       "      <th>Зарплата</th>\n",
       "      <th>Члены семьи</th>\n",
       "      <th>Страховые выплаты</th>\n",
       "    </tr>\n",
       "  </thead>\n",
       "  <tbody>\n",
       "    <tr>\n",
       "      <td>0</td>\n",
       "      <td>1</td>\n",
       "      <td>41.0</td>\n",
       "      <td>49600.0</td>\n",
       "      <td>1</td>\n",
       "      <td>0</td>\n",
       "    </tr>\n",
       "    <tr>\n",
       "      <td>1</td>\n",
       "      <td>0</td>\n",
       "      <td>46.0</td>\n",
       "      <td>38000.0</td>\n",
       "      <td>1</td>\n",
       "      <td>1</td>\n",
       "    </tr>\n",
       "    <tr>\n",
       "      <td>2</td>\n",
       "      <td>0</td>\n",
       "      <td>29.0</td>\n",
       "      <td>21000.0</td>\n",
       "      <td>0</td>\n",
       "      <td>0</td>\n",
       "    </tr>\n",
       "    <tr>\n",
       "      <td>3</td>\n",
       "      <td>0</td>\n",
       "      <td>21.0</td>\n",
       "      <td>41700.0</td>\n",
       "      <td>2</td>\n",
       "      <td>0</td>\n",
       "    </tr>\n",
       "    <tr>\n",
       "      <td>4</td>\n",
       "      <td>1</td>\n",
       "      <td>28.0</td>\n",
       "      <td>26100.0</td>\n",
       "      <td>0</td>\n",
       "      <td>0</td>\n",
       "    </tr>\n",
       "    <tr>\n",
       "      <td>...</td>\n",
       "      <td>...</td>\n",
       "      <td>...</td>\n",
       "      <td>...</td>\n",
       "      <td>...</td>\n",
       "      <td>...</td>\n",
       "    </tr>\n",
       "    <tr>\n",
       "      <td>4842</td>\n",
       "      <td>0</td>\n",
       "      <td>28.0</td>\n",
       "      <td>35700.0</td>\n",
       "      <td>2</td>\n",
       "      <td>0</td>\n",
       "    </tr>\n",
       "    <tr>\n",
       "      <td>4843</td>\n",
       "      <td>0</td>\n",
       "      <td>34.0</td>\n",
       "      <td>52400.0</td>\n",
       "      <td>1</td>\n",
       "      <td>0</td>\n",
       "    </tr>\n",
       "    <tr>\n",
       "      <td>4844</td>\n",
       "      <td>0</td>\n",
       "      <td>20.0</td>\n",
       "      <td>33900.0</td>\n",
       "      <td>2</td>\n",
       "      <td>0</td>\n",
       "    </tr>\n",
       "    <tr>\n",
       "      <td>4845</td>\n",
       "      <td>1</td>\n",
       "      <td>22.0</td>\n",
       "      <td>32700.0</td>\n",
       "      <td>3</td>\n",
       "      <td>0</td>\n",
       "    </tr>\n",
       "    <tr>\n",
       "      <td>4846</td>\n",
       "      <td>1</td>\n",
       "      <td>28.0</td>\n",
       "      <td>40600.0</td>\n",
       "      <td>1</td>\n",
       "      <td>0</td>\n",
       "    </tr>\n",
       "  </tbody>\n",
       "</table>\n",
       "<p>4847 rows × 5 columns</p>\n",
       "</div>"
      ],
      "text/plain": [
       "      Пол  Возраст  Зарплата  Члены семьи  Страховые выплаты\n",
       "0       1     41.0   49600.0            1                  0\n",
       "1       0     46.0   38000.0            1                  1\n",
       "2       0     29.0   21000.0            0                  0\n",
       "3       0     21.0   41700.0            2                  0\n",
       "4       1     28.0   26100.0            0                  0\n",
       "...   ...      ...       ...          ...                ...\n",
       "4842    0     28.0   35700.0            2                  0\n",
       "4843    0     34.0   52400.0            1                  0\n",
       "4844    0     20.0   33900.0            2                  0\n",
       "4845    1     22.0   32700.0            3                  0\n",
       "4846    1     28.0   40600.0            1                  0\n",
       "\n",
       "[4847 rows x 5 columns]"
      ]
     },
     "execution_count": 5,
     "metadata": {},
     "output_type": "execute_result"
    }
   ],
   "source": [
    "data.drop_duplicates().reset_index(drop= True)"
   ]
  },
  {
   "cell_type": "markdown",
   "metadata": {},
   "source": [
    "<font color='blue'>153 дубликата, лучше от них избавиться, чтобы посмотреть качесво модели на реальных результатах, а не на задвойниках\n",
    "</font>"
   ]
  },
  {
   "cell_type": "code",
   "execution_count": 6,
   "metadata": {},
   "outputs": [],
   "source": [
    "data['Возраст']=data['Возраст'].astype('int')"
   ]
  },
  {
   "cell_type": "markdown",
   "metadata": {},
   "source": [
    "<font color='blue'>Данные изучены и преобразованы, можем приступать к работе!\n",
    "</font>"
   ]
  },
  {
   "cell_type": "code",
   "execution_count": 7,
   "metadata": {},
   "outputs": [
    {
     "name": "stdout",
     "output_type": "stream",
     "text": [
      "0.42494550286668\n"
     ]
    }
   ],
   "source": [
    "features=data.drop('Страховые выплаты', axis=1)\n",
    "target=data['Страховые выплаты']\n",
    "model=LinearRegression()\n",
    "model.fit(features, target)\n",
    "pred=model.predict(features)\n",
    "print(r2_score(target, pred))\n"
   ]
  },
  {
   "cell_type": "markdown",
   "metadata": {},
   "source": [
    "<font color='blue'>\n",
    "Качесво получилось 0.42, не то чтобы хорошо, но и не плохо) \n",
    "Сделаем обратную матрицу и умножим её на фичи, посмотрим что получится</font>"
   ]
  },
  {
   "cell_type": "code",
   "execution_count": 8,
   "metadata": {},
   "outputs": [
    {
     "name": "stdout",
     "output_type": "stream",
     "text": [
      "Исходная матрица:\n",
      "[[5 8 1 6]\n",
      " [2 9 8 4]\n",
      " [1 9 5 7]\n",
      " [7 3 3 7]]\n",
      "\n",
      "Обратная матрица:\n",
      "[[ 0.11035422  0.09673025 -0.21730245  0.06743869]\n",
      " [ 0.16076294  0.05449591 -0.04495913 -0.1239782 ]\n",
      " [-0.15122616  0.126703   -0.01702997  0.07425068]\n",
      " [-0.11444142 -0.17438692  0.24386921  0.09673025]]\n",
      "\n"
     ]
    },
    {
     "data": {
      "text/html": [
       "<div>\n",
       "<style scoped>\n",
       "    .dataframe tbody tr th:only-of-type {\n",
       "        vertical-align: middle;\n",
       "    }\n",
       "\n",
       "    .dataframe tbody tr th {\n",
       "        vertical-align: top;\n",
       "    }\n",
       "\n",
       "    .dataframe thead th {\n",
       "        text-align: right;\n",
       "    }\n",
       "</style>\n",
       "<table border=\"1\" class=\"dataframe\">\n",
       "  <thead>\n",
       "    <tr style=\"text-align: right;\">\n",
       "      <th></th>\n",
       "      <th>0</th>\n",
       "      <th>1</th>\n",
       "      <th>2</th>\n",
       "      <th>3</th>\n",
       "    </tr>\n",
       "  </thead>\n",
       "  <tbody>\n",
       "    <tr>\n",
       "      <td>0</td>\n",
       "      <td>-7494.230245</td>\n",
       "      <td>6286.625341</td>\n",
       "      <td>-846.503406</td>\n",
       "      <td>3677.914850</td>\n",
       "    </tr>\n",
       "    <tr>\n",
       "      <td>1</td>\n",
       "      <td>-5739.313351</td>\n",
       "      <td>4817.046322</td>\n",
       "      <td>-648.963215</td>\n",
       "      <td>2815.919619</td>\n",
       "    </tr>\n",
       "    <tr>\n",
       "      <td>2</td>\n",
       "      <td>-3171.087193</td>\n",
       "      <td>2662.343324</td>\n",
       "      <td>-358.933243</td>\n",
       "      <td>1555.668937</td>\n",
       "    </tr>\n",
       "    <tr>\n",
       "      <td>3</td>\n",
       "      <td>-6302.983651</td>\n",
       "      <td>5284.310627</td>\n",
       "      <td>-710.606267</td>\n",
       "      <td>3093.843324</td>\n",
       "    </tr>\n",
       "    <tr>\n",
       "      <td>4</td>\n",
       "      <td>-3942.391008</td>\n",
       "      <td>3308.570845</td>\n",
       "      <td>-445.958447</td>\n",
       "      <td>1934.538828</td>\n",
       "    </tr>\n",
       "    <tr>\n",
       "      <td>...</td>\n",
       "      <td>...</td>\n",
       "      <td>...</td>\n",
       "      <td>...</td>\n",
       "      <td>...</td>\n",
       "    </tr>\n",
       "    <tr>\n",
       "      <td>4995</td>\n",
       "      <td>-5394.501362</td>\n",
       "      <td>4524.474114</td>\n",
       "      <td>-608.741144</td>\n",
       "      <td>2647.471390</td>\n",
       "    </tr>\n",
       "    <tr>\n",
       "      <td>4996</td>\n",
       "      <td>-7918.899183</td>\n",
       "      <td>6640.915531</td>\n",
       "      <td>-893.655313</td>\n",
       "      <td>3886.617166</td>\n",
       "    </tr>\n",
       "    <tr>\n",
       "      <td>4997</td>\n",
       "      <td>-5123.580381</td>\n",
       "      <td>4295.972752</td>\n",
       "      <td>-577.727520</td>\n",
       "      <td>2514.811989</td>\n",
       "    </tr>\n",
       "    <tr>\n",
       "      <td>4998</td>\n",
       "      <td>-4941.791553</td>\n",
       "      <td>4143.960490</td>\n",
       "      <td>-557.354905</td>\n",
       "      <td>2425.627384</td>\n",
       "    </tr>\n",
       "    <tr>\n",
       "      <td>4999</td>\n",
       "      <td>-6135.284741</td>\n",
       "      <td>5145.589918</td>\n",
       "      <td>-692.649183</td>\n",
       "      <td>3011.270436</td>\n",
       "    </tr>\n",
       "  </tbody>\n",
       "</table>\n",
       "<p>5000 rows × 4 columns</p>\n",
       "</div>"
      ],
      "text/plain": [
       "                0            1           2            3\n",
       "0    -7494.230245  6286.625341 -846.503406  3677.914850\n",
       "1    -5739.313351  4817.046322 -648.963215  2815.919619\n",
       "2    -3171.087193  2662.343324 -358.933243  1555.668937\n",
       "3    -6302.983651  5284.310627 -710.606267  3093.843324\n",
       "4    -3942.391008  3308.570845 -445.958447  1934.538828\n",
       "...           ...          ...         ...          ...\n",
       "4995 -5394.501362  4524.474114 -608.741144  2647.471390\n",
       "4996 -7918.899183  6640.915531 -893.655313  3886.617166\n",
       "4997 -5123.580381  4295.972752 -577.727520  2514.811989\n",
       "4998 -4941.791553  4143.960490 -557.354905  2425.627384\n",
       "4999 -6135.284741  5145.589918 -692.649183  3011.270436\n",
       "\n",
       "[5000 rows x 4 columns]"
      ]
     },
     "execution_count": 8,
     "metadata": {},
     "output_type": "execute_result"
    }
   ],
   "source": [
    "#random_matrix = np.matrix(np.random.randint(10, size=(int(input('rows=')), int(input('cols=')))))\n",
    "random_matrix = np.matrix(np.random.randint(10, size=(4,4)))\n",
    "print('Исходная матрица:')\n",
    "print(random_matrix)\n",
    "print()\n",
    "L = np.linalg.inv(random_matrix)\n",
    "print(\"Обратная матрица:\")\n",
    "print(L)\n",
    "print()\n",
    "features1 = features.dot(L)\n",
    "features1"
   ]
  },
  {
   "cell_type": "code",
   "execution_count": 9,
   "metadata": {},
   "outputs": [
    {
     "name": "stdout",
     "output_type": "stream",
     "text": [
      "0.4249455028666643\n"
     ]
    }
   ],
   "source": [
    "model1=LinearRegression()\n",
    "model1.fit(features1, target)\n",
    "pred1=model1.predict(features1)\n",
    "print(r2_score(target, pred1))"
   ]
  },
  {
   "cell_type": "markdown",
   "metadata": {},
   "source": [
    "<font color='blue'>\n",
    " Качество модели после переобучения практически не изменилось </font>"
   ]
  },
  {
   "cell_type": "markdown",
   "metadata": {},
   "source": [
    "## Умножение матриц"
   ]
  },
  {
   "cell_type": "markdown",
   "metadata": {},
   "source": [
    "В этом задании вы можете записывать формулы в *Jupyter Notebook.*\n",
    "\n",
    "Чтобы записать формулу внутри текста, окружите её символами доллара \\\\$; если снаружи —  двойными символами \\\\$\\\\$. Эти формулы записываются на языке вёрстки *LaTeX.* \n",
    "\n",
    "Для примера мы записали формулы линейной регрессии. Можете их скопировать и отредактировать, чтобы решить задачу.\n",
    "\n",
    "Работать в *LaTeX* необязательно."
   ]
  },
  {
   "cell_type": "markdown",
   "metadata": {},
   "source": [
    "Обозначения:\n",
    "\n",
    "- $X$ — матрица признаков (нулевой столбец состоит из единиц)\n",
    "\n",
    "- $y$ — вектор целевого признака\n",
    "\n",
    "- $P$ — матрица, на которую умножаются признаки\n",
    "\n",
    "- $w$ — вектор весов линейной регрессии (нулевой элемент равен сдвигу)"
   ]
  },
  {
   "cell_type": "markdown",
   "metadata": {},
   "source": [
    "Предсказания:\n",
    "\n",
    "$$\n",
    "a = Xw\n",
    "$$\n",
    "\n",
    "Задача обучения:\n",
    "\n",
    "$$\n",
    "w = \\arg\\min_w MSE(Xw, y)\n",
    "$$\n",
    "\n",
    "Формула обучения:\n",
    "\n",
    "$$\n",
    "w = (X^T X)^{-1} X^T y\n",
    "$$"
   ]
  },
  {
   "cell_type": "markdown",
   "metadata": {},
   "source": [
    "**Ответ:** R2 не изменится если домножать только фичи, если домножить матрицу полностью -  R2 будет запредельно большим\n",
    "\n",
    "**Обоснование:** Насколько я понимаю, связь между признаками линейная, просто при умножении добавляется коэффициенты в виде матрицы, но по итогу на результат повлиять не должно\n"
   ]
  },
  {
   "cell_type": "markdown",
   "metadata": {},
   "source": [
    "## Алгоритм преобразования"
   ]
  },
  {
   "cell_type": "markdown",
   "metadata": {},
   "source": [
    "**Алгоритм**\n",
    "Видим, что умножение на матрицу действительно не влияет(значимо) на обучаемость линейной регрессии\n",
    "**Обоснование:** \n",
    "Попробуем обосновать это математически:\n",
    "\n",
    "Линейная регрессия, чтобы найти прямую с нужными коэффициентами, использует формулу $$\\omega=(X^TX)^{-1}X^Ty$$где $X$ — матрица с признаками, а $y$ — вектор целевого признака.\n",
    "\n",
    "Предсказание результатов осуществляется по формуле $a=X_1\\omega$ где $X_1$ — некоторые новые строки признаков, а $a$ — предсказания модели по этим признакам.\n",
    "\n",
    "Посмотрим, что будет, если домножить наши признаки на некоторую случайную матрицу $A$, при условии что число её строк равно числу столбцов $X$ (умножение возможно), и $А$ — обратима, то есть существует такая $A^{-1}$ что $AA^{-1}=E$, где $E$ - единичная матрица.\n",
    "\n",
    "$$\n",
    "a = Xw = XEw = XAA^{-1}w = (XA)A^{-1}w = (XA)w'\n",
    "$$\n",
    "\n",
    "\n",
    "\n",
    "\n",
    "\n",
    "После домножения при новом обучении регрессии, модель найдет новые коэффициенты, назовем их: $$w'$$\n",
    "\n",
    "$$\n",
    "w = (X^T X)^{-1} X^T y\n",
    "$$\n",
    "\\\n",
    "$$\n",
    "w' = ((XA)^T XA)^{-1} (XA)^T y\n",
    "$$\n",
    "$$\n",
    "w' = (A^T (X^T X) A)^{-1} (XA)^T y\n",
    "$$\n",
    "$$\n",
    "w' = (A^T (X^T X) A)^{-1} A^T X^T y\n",
    "$$\n",
    "$$\n",
    "w' = A^{-1} (X^T X)^{-1} (A^T)^{-1} A^T X^T y\n",
    "$$\n",
    "$$\n",
    "w' = A^{-1} (X^T X)^{-1} E X^T y\n",
    "$$\n",
    "\\\n",
    "$$\n",
    "w' = A^{-1}w\n",
    "$$\n",
    "$$\\omega^{'} = ((XA)^T(XA))^{-1}(XA)^Ty$$  \n",
    "\n",
    "Подставим ее в формулу предсказания результатов:\n",
    "\n",
    "$$a^{'} = X_1A\\omega^{'} = X_1A((XA)^T(XA))^{-1}(XA)^Ty=X_1A(XA))^{-1}((XA)^T))^{-1}(XA)^Ty=X_1X^{-1}y$$"
   ]
  },
  {
   "cell_type": "markdown",
   "metadata": {},
   "source": [
    "## Проверка алгоритма"
   ]
  },
  {
   "cell_type": "code",
   "execution_count": 10,
   "metadata": {},
   "outputs": [
    {
     "name": "stdout",
     "output_type": "stream",
     "text": [
      "0.42494550286668\n"
     ]
    }
   ],
   "source": [
    "features2=np.array([features])\n",
    "features3=np.rot90(features2, 2)\n",
    "target=list(reversed(target))\n",
    "\n",
    "model2=LinearRegression()\n",
    "model2.fit(features3[0,:,:], target)\n",
    "pred2=model2.predict(features3[0,:,:])\n",
    "print(r2_score(target, pred2))"
   ]
  },
  {
   "cell_type": "markdown",
   "metadata": {},
   "source": [
    "<font color='blue'>\n",
    "Стабильность – признак мастерства!\n",
    "</font>"
   ]
  },
  {
   "cell_type": "markdown",
   "metadata": {},
   "source": [
    "## Вывод"
   ]
  },
  {
   "cell_type": "markdown",
   "metadata": {},
   "source": [
    "Если рассматривать передачу данных третьим лицам, то к преимуществам данного подхода можно отнести, в первую очередь, ощутимую экономию ресурсов по сравнению с некоторыми известными алгоритмами шифрования.\n",
    "\n",
    "Недостаток данного метода, что он работает только с матрицей 4х4, и если мы будем задействовать матрицу больших размеров, то это приведет к увеличению затраченных ресурсов, но и эту задачу можно будет решить!"
   ]
  },
  {
   "cell_type": "code",
   "execution_count": null,
   "metadata": {},
   "outputs": [],
   "source": []
  }
 ],
 "metadata": {
  "ExecuteTimeLog": [
   {
    "duration": 1460,
    "start_time": "2021-09-07T19:50:35.809Z"
   },
   {
    "duration": 4,
    "start_time": "2021-09-07T19:50:38.779Z"
   },
   {
    "duration": 4,
    "start_time": "2021-09-07T19:50:43.626Z"
   },
   {
    "duration": 32,
    "start_time": "2021-09-07T19:51:01.320Z"
   },
   {
    "duration": 25,
    "start_time": "2021-09-07T19:51:11.831Z"
   },
   {
    "duration": 1422,
    "start_time": "2021-09-07T19:51:41.118Z"
   },
   {
    "duration": 4,
    "start_time": "2021-09-07T19:51:42.543Z"
   },
   {
    "duration": 40,
    "start_time": "2021-09-07T19:51:42.551Z"
   },
   {
    "duration": 51,
    "start_time": "2021-09-07T19:51:42.594Z"
   },
   {
    "duration": 47,
    "start_time": "2021-09-07T19:52:34.536Z"
   },
   {
    "duration": 9,
    "start_time": "2021-09-07T19:52:42.126Z"
   },
   {
    "duration": 12,
    "start_time": "2021-09-07T19:53:15.191Z"
   },
   {
    "duration": 9,
    "start_time": "2021-09-07T19:54:43.423Z"
   },
   {
    "duration": 8,
    "start_time": "2021-09-07T19:54:55.069Z"
   },
   {
    "duration": 120,
    "start_time": "2021-09-07T19:57:07.629Z"
   },
   {
    "duration": 488,
    "start_time": "2021-09-07T19:57:13.372Z"
   },
   {
    "duration": 386,
    "start_time": "2021-09-07T19:57:20.294Z"
   },
   {
    "duration": 20,
    "start_time": "2021-09-07T19:58:49.739Z"
   },
   {
    "duration": 19,
    "start_time": "2021-09-07T19:59:09.924Z"
   },
   {
    "duration": 9,
    "start_time": "2021-09-07T20:00:05.684Z"
   },
   {
    "duration": 6,
    "start_time": "2021-09-07T20:00:14.963Z"
   },
   {
    "duration": 9,
    "start_time": "2021-09-07T20:03:16.513Z"
   },
   {
    "duration": 9,
    "start_time": "2021-09-07T20:05:50.600Z"
   },
   {
    "duration": 422,
    "start_time": "2021-09-07T20:05:58.824Z"
   },
   {
    "duration": 6,
    "start_time": "2021-09-07T20:06:32.008Z"
   },
   {
    "duration": 5,
    "start_time": "2021-09-07T20:06:47.423Z"
   },
   {
    "duration": 12,
    "start_time": "2021-09-07T20:06:54.543Z"
   },
   {
    "duration": 297,
    "start_time": "2021-09-07T20:07:25.615Z"
   },
   {
    "duration": 9,
    "start_time": "2021-09-07T20:07:30.358Z"
   },
   {
    "duration": 9,
    "start_time": "2021-09-07T20:07:51.031Z"
   },
   {
    "duration": 9,
    "start_time": "2021-09-07T20:07:54.463Z"
   },
   {
    "duration": 1481,
    "start_time": "2021-09-07T20:08:05.287Z"
   },
   {
    "duration": 21,
    "start_time": "2021-09-07T20:08:30.216Z"
   },
   {
    "duration": 5,
    "start_time": "2021-09-07T20:12:01.853Z"
   },
   {
    "duration": 5,
    "start_time": "2021-09-07T20:12:03.940Z"
   },
   {
    "duration": 16,
    "start_time": "2021-09-07T20:12:07.884Z"
   },
   {
    "duration": 4,
    "start_time": "2021-09-07T20:21:10.872Z"
   },
   {
    "duration": 128,
    "start_time": "2021-09-07T20:21:34.055Z"
   },
   {
    "duration": 429,
    "start_time": "2021-09-07T20:22:52.510Z"
   },
   {
    "duration": 1514,
    "start_time": "2021-09-07T20:23:23.487Z"
   },
   {
    "duration": 3,
    "start_time": "2021-09-07T20:23:25.004Z"
   },
   {
    "duration": 34,
    "start_time": "2021-09-07T20:23:25.010Z"
   },
   {
    "duration": 64,
    "start_time": "2021-09-07T20:23:25.046Z"
   },
   {
    "duration": 19,
    "start_time": "2021-09-07T20:23:25.113Z"
   },
   {
    "duration": 4,
    "start_time": "2021-09-07T20:23:25.135Z"
   },
   {
    "duration": 635,
    "start_time": "2021-09-07T20:23:25.142Z"
   },
   {
    "duration": 14,
    "start_time": "2021-09-07T20:23:37.867Z"
   },
   {
    "duration": 86,
    "start_time": "2021-09-07T20:26:12.899Z"
   },
   {
    "duration": 4,
    "start_time": "2021-09-07T20:26:34.266Z"
   },
   {
    "duration": 4,
    "start_time": "2021-09-07T20:26:37.195Z"
   },
   {
    "duration": 7,
    "start_time": "2021-09-07T20:26:47.002Z"
   },
   {
    "duration": 9776,
    "start_time": "2021-09-07T20:28:25.065Z"
   },
   {
    "duration": 9120,
    "start_time": "2021-09-07T20:28:59.441Z"
   },
   {
    "duration": 3,
    "start_time": "2021-09-07T20:31:00.873Z"
   },
   {
    "duration": 3,
    "start_time": "2021-09-07T20:31:04.200Z"
   },
   {
    "duration": 7,
    "start_time": "2021-09-07T20:31:12.792Z"
   },
   {
    "duration": 5,
    "start_time": "2021-09-07T20:31:29.112Z"
   },
   {
    "duration": 1522,
    "start_time": "2021-09-08T21:11:35.560Z"
   },
   {
    "duration": 4,
    "start_time": "2021-09-08T21:11:37.085Z"
   },
   {
    "duration": 38,
    "start_time": "2021-09-08T21:11:37.091Z"
   },
   {
    "duration": 67,
    "start_time": "2021-09-08T21:11:37.133Z"
   },
   {
    "duration": 22,
    "start_time": "2021-09-08T21:11:37.204Z"
   },
   {
    "duration": 6,
    "start_time": "2021-09-08T21:11:37.257Z"
   },
   {
    "duration": 93,
    "start_time": "2021-09-08T21:11:37.266Z"
   },
   {
    "duration": 178,
    "start_time": "2021-09-08T21:11:37.363Z"
   },
   {
    "duration": 121,
    "start_time": "2021-09-08T21:12:02.028Z"
   },
   {
    "duration": 98467,
    "start_time": "2021-09-08T21:12:30.875Z"
   },
   {
    "duration": 6821,
    "start_time": "2021-09-08T21:14:46.866Z"
   },
   {
    "duration": 290,
    "start_time": "2021-09-08T21:18:00.656Z"
   },
   {
    "duration": 4,
    "start_time": "2021-09-08T21:18:17.807Z"
   },
   {
    "duration": 5,
    "start_time": "2021-09-08T21:20:02.887Z"
   },
   {
    "duration": 7370,
    "start_time": "2021-09-08T21:21:43.765Z"
   },
   {
    "duration": 2770,
    "start_time": "2021-09-08T21:21:58.148Z"
   },
   {
    "duration": 4656,
    "start_time": "2021-09-08T21:25:00.428Z"
   },
   {
    "duration": 6613,
    "start_time": "2021-09-08T21:29:05.034Z"
   },
   {
    "duration": 2302,
    "start_time": "2021-09-08T21:31:32.720Z"
   },
   {
    "duration": 3877,
    "start_time": "2021-09-08T21:32:02.896Z"
   },
   {
    "duration": 1585,
    "start_time": "2021-09-08T21:32:40.958Z"
   },
   {
    "duration": 10,
    "start_time": "2021-09-08T21:32:42.546Z"
   },
   {
    "duration": 43,
    "start_time": "2021-09-08T21:32:42.559Z"
   },
   {
    "duration": 51,
    "start_time": "2021-09-08T21:32:42.604Z"
   },
   {
    "duration": 20,
    "start_time": "2021-09-08T21:32:42.658Z"
   },
   {
    "duration": 5,
    "start_time": "2021-09-08T21:32:42.681Z"
   },
   {
    "duration": 427,
    "start_time": "2021-09-08T21:32:42.689Z"
   },
   {
    "duration": -1253,
    "start_time": "2021-09-08T21:32:44.372Z"
   },
   {
    "duration": -1255,
    "start_time": "2021-09-08T21:32:44.375Z"
   },
   {
    "duration": 21,
    "start_time": "2021-09-08T21:33:14.689Z"
   },
   {
    "duration": 5,
    "start_time": "2021-09-08T21:33:16.527Z"
   },
   {
    "duration": 8426,
    "start_time": "2021-09-08T21:33:17.176Z"
   },
   {
    "duration": 9783,
    "start_time": "2021-09-08T21:33:54.984Z"
   },
   {
    "duration": 2349,
    "start_time": "2021-09-08T21:34:10.064Z"
   },
   {
    "duration": 1932,
    "start_time": "2021-09-08T21:34:18.136Z"
   },
   {
    "duration": 1979,
    "start_time": "2021-09-08T21:37:50.869Z"
   },
   {
    "duration": 1662,
    "start_time": "2021-09-08T21:38:02.077Z"
   },
   {
    "duration": 5,
    "start_time": "2021-09-08T21:39:04.101Z"
   },
   {
    "duration": 1493,
    "start_time": "2021-09-08T21:39:42.074Z"
   },
   {
    "duration": 3,
    "start_time": "2021-09-08T21:39:43.570Z"
   },
   {
    "duration": 35,
    "start_time": "2021-09-08T21:39:43.576Z"
   },
   {
    "duration": 64,
    "start_time": "2021-09-08T21:39:43.614Z"
   },
   {
    "duration": 20,
    "start_time": "2021-09-08T21:39:43.680Z"
   },
   {
    "duration": 4,
    "start_time": "2021-09-08T21:39:43.703Z"
   },
   {
    "duration": 54,
    "start_time": "2021-09-08T21:39:43.709Z"
   },
   {
    "duration": 91,
    "start_time": "2021-09-08T21:39:43.767Z"
   },
   {
    "duration": 7,
    "start_time": "2021-09-08T21:39:43.860Z"
   },
   {
    "duration": 3402,
    "start_time": "2021-09-08T21:39:43.870Z"
   },
   {
    "duration": 1480,
    "start_time": "2021-09-08T21:42:31.490Z"
   },
   {
    "duration": 4,
    "start_time": "2021-09-08T21:42:32.972Z"
   },
   {
    "duration": 41,
    "start_time": "2021-09-08T21:42:32.979Z"
   },
   {
    "duration": 64,
    "start_time": "2021-09-08T21:42:33.023Z"
   },
   {
    "duration": 65,
    "start_time": "2021-09-08T21:42:33.090Z"
   },
   {
    "duration": 8,
    "start_time": "2021-09-08T21:42:33.159Z"
   },
   {
    "duration": 4,
    "start_time": "2021-09-08T21:42:33.256Z"
   },
   {
    "duration": 4292,
    "start_time": "2021-09-08T21:42:33.263Z"
   },
   {
    "duration": 1492,
    "start_time": "2021-09-08T21:43:54.877Z"
   },
   {
    "duration": 3,
    "start_time": "2021-09-08T21:43:56.372Z"
   },
   {
    "duration": 37,
    "start_time": "2021-09-08T21:43:56.379Z"
   },
   {
    "duration": 66,
    "start_time": "2021-09-08T21:43:56.419Z"
   },
   {
    "duration": 74,
    "start_time": "2021-09-08T21:43:56.487Z"
   },
   {
    "duration": 95,
    "start_time": "2021-09-08T21:43:56.564Z"
   },
   {
    "duration": 7,
    "start_time": "2021-09-08T21:43:56.662Z"
   },
   {
    "duration": 489,
    "start_time": "2021-09-08T21:43:56.672Z"
   },
   {
    "duration": 1434,
    "start_time": "2021-09-08T21:45:18.702Z"
   },
   {
    "duration": 4,
    "start_time": "2021-09-08T21:45:20.139Z"
   },
   {
    "duration": 43,
    "start_time": "2021-09-08T21:45:20.146Z"
   },
   {
    "duration": 53,
    "start_time": "2021-09-08T21:45:20.191Z"
   },
   {
    "duration": 20,
    "start_time": "2021-09-08T21:45:20.256Z"
   },
   {
    "duration": 4,
    "start_time": "2021-09-08T21:45:20.279Z"
   },
   {
    "duration": 75,
    "start_time": "2021-09-08T21:45:20.285Z"
   },
   {
    "duration": 94,
    "start_time": "2021-09-08T21:45:20.365Z"
   },
   {
    "duration": 4139,
    "start_time": "2021-09-08T21:45:20.462Z"
   },
   {
    "duration": 2956,
    "start_time": "2021-09-08T21:45:32.936Z"
   },
   {
    "duration": 1959,
    "start_time": "2021-09-08T21:45:43.072Z"
   },
   {
    "duration": 2267,
    "start_time": "2021-09-08T21:48:58.464Z"
   },
   {
    "duration": 1764,
    "start_time": "2021-09-08T21:49:14.863Z"
   },
   {
    "duration": 1782,
    "start_time": "2021-09-08T21:50:41.710Z"
   },
   {
    "duration": 1512,
    "start_time": "2021-09-08T21:54:24.965Z"
   },
   {
    "duration": 1868,
    "start_time": "2021-09-08T21:55:03.396Z"
   },
   {
    "duration": 1664,
    "start_time": "2021-09-08T21:57:21.842Z"
   },
   {
    "duration": 3592,
    "start_time": "2021-09-08T21:58:05.969Z"
   },
   {
    "duration": 1943,
    "start_time": "2021-09-08T21:58:12.730Z"
   },
   {
    "duration": 2361,
    "start_time": "2021-09-08T21:58:17.266Z"
   },
   {
    "duration": 1079,
    "start_time": "2021-09-08T21:58:25.498Z"
   },
   {
    "duration": 1572,
    "start_time": "2021-09-10T09:02:30.326Z"
   },
   {
    "duration": 4,
    "start_time": "2021-09-10T09:02:31.901Z"
   },
   {
    "duration": 36,
    "start_time": "2021-09-10T09:02:31.909Z"
   },
   {
    "duration": 64,
    "start_time": "2021-09-10T09:02:31.948Z"
   },
   {
    "duration": 21,
    "start_time": "2021-09-10T09:02:32.014Z"
   },
   {
    "duration": 5,
    "start_time": "2021-09-10T09:02:32.037Z"
   },
   {
    "duration": 108,
    "start_time": "2021-09-10T09:02:32.068Z"
   },
   {
    "duration": 4099,
    "start_time": "2021-09-10T09:02:32.184Z"
   },
   {
    "duration": 34,
    "start_time": "2021-09-10T09:02:59.949Z"
   },
   {
    "duration": 90,
    "start_time": "2021-09-10T09:03:47.780Z"
   },
   {
    "duration": 60,
    "start_time": "2021-09-10T09:04:00.709Z"
   },
   {
    "duration": 25,
    "start_time": "2021-09-10T09:04:12.052Z"
   },
   {
    "duration": 22,
    "start_time": "2021-09-10T09:14:50.948Z"
   },
   {
    "duration": 21,
    "start_time": "2021-09-10T09:15:16.854Z"
   },
   {
    "duration": 12,
    "start_time": "2021-09-10T09:24:19.969Z"
   },
   {
    "duration": 13,
    "start_time": "2021-09-10T09:25:19.271Z"
   },
   {
    "duration": 13,
    "start_time": "2021-09-10T09:25:22.824Z"
   },
   {
    "duration": 126,
    "start_time": "2021-09-10T09:25:46.256Z"
   },
   {
    "duration": 21,
    "start_time": "2021-09-10T09:27:36.600Z"
   },
   {
    "duration": 5,
    "start_time": "2021-09-10T09:29:39.990Z"
   },
   {
    "duration": 85,
    "start_time": "2021-09-10T09:33:10.283Z"
   },
   {
    "duration": 104,
    "start_time": "2021-09-10T09:34:38.764Z"
   },
   {
    "duration": 13,
    "start_time": "2021-09-10T09:34:41.819Z"
   },
   {
    "duration": 2443,
    "start_time": "2021-09-10T09:36:02.153Z"
   },
   {
    "duration": 5,
    "start_time": "2021-09-10T09:36:12.563Z"
   },
   {
    "duration": 6,
    "start_time": "2021-09-10T09:37:04.506Z"
   },
   {
    "duration": 12,
    "start_time": "2021-09-10T09:44:01.831Z"
   },
   {
    "duration": 12,
    "start_time": "2021-09-10T09:44:03.534Z"
   },
   {
    "duration": 12,
    "start_time": "2021-09-10T09:44:05.094Z"
   },
   {
    "duration": 1538,
    "start_time": "2021-09-10T09:44:23.108Z"
   },
   {
    "duration": 4,
    "start_time": "2021-09-10T09:44:24.649Z"
   },
   {
    "duration": 33,
    "start_time": "2021-09-10T09:44:24.667Z"
   },
   {
    "duration": 67,
    "start_time": "2021-09-10T09:44:24.703Z"
   },
   {
    "duration": 26,
    "start_time": "2021-09-10T09:44:24.774Z"
   },
   {
    "duration": 5,
    "start_time": "2021-09-10T09:44:24.802Z"
   },
   {
    "duration": 59,
    "start_time": "2021-09-10T09:44:24.810Z"
   },
   {
    "duration": 113,
    "start_time": "2021-09-10T09:44:24.874Z"
   },
   {
    "duration": 21,
    "start_time": "2021-09-10T09:44:25.069Z"
   },
   {
    "duration": 97,
    "start_time": "2021-09-10T09:44:25.170Z"
   },
   {
    "duration": 579,
    "start_time": "2021-09-10T09:44:49.869Z"
   },
   {
    "duration": 609,
    "start_time": "2021-09-10T09:46:29.635Z"
   },
   {
    "duration": 662,
    "start_time": "2021-09-10T09:46:46.674Z"
   },
   {
    "duration": 525,
    "start_time": "2021-09-10T09:47:02.371Z"
   },
   {
    "duration": 589,
    "start_time": "2021-09-10T09:47:10.041Z"
   },
   {
    "duration": 581,
    "start_time": "2021-09-10T09:47:25.242Z"
   },
   {
    "duration": 374,
    "start_time": "2021-09-10T09:47:35.402Z"
   },
   {
    "duration": 161,
    "start_time": "2021-09-10T09:48:02.907Z"
   },
   {
    "duration": 1803,
    "start_time": "2021-09-10T09:48:09.342Z"
   },
   {
    "duration": 4,
    "start_time": "2021-09-10T09:48:11.148Z"
   },
   {
    "duration": 43,
    "start_time": "2021-09-10T09:48:11.155Z"
   },
   {
    "duration": 69,
    "start_time": "2021-09-10T09:48:11.201Z"
   },
   {
    "duration": 29,
    "start_time": "2021-09-10T09:48:11.274Z"
   },
   {
    "duration": 5,
    "start_time": "2021-09-10T09:48:11.305Z"
   },
   {
    "duration": 70,
    "start_time": "2021-09-10T09:48:11.313Z"
   },
   {
    "duration": 181,
    "start_time": "2021-09-10T09:48:11.387Z"
   },
   {
    "duration": 101,
    "start_time": "2021-09-10T09:48:11.574Z"
   },
   {
    "duration": 188,
    "start_time": "2021-09-10T09:48:11.680Z"
   },
   {
    "duration": 1516,
    "start_time": "2021-09-10T09:48:26.116Z"
   },
   {
    "duration": 5,
    "start_time": "2021-09-10T09:48:27.635Z"
   },
   {
    "duration": 50,
    "start_time": "2021-09-10T09:48:27.649Z"
   },
   {
    "duration": 76,
    "start_time": "2021-09-10T09:48:27.701Z"
   },
   {
    "duration": 21,
    "start_time": "2021-09-10T09:48:27.779Z"
   },
   {
    "duration": 5,
    "start_time": "2021-09-10T09:48:27.802Z"
   },
   {
    "duration": 158,
    "start_time": "2021-09-10T09:48:27.810Z"
   },
   {
    "duration": 95,
    "start_time": "2021-09-10T09:48:27.973Z"
   },
   {
    "duration": 109,
    "start_time": "2021-09-10T09:48:28.072Z"
   },
   {
    "duration": 191,
    "start_time": "2021-09-10T09:48:28.184Z"
   },
   {
    "duration": 12,
    "start_time": "2021-09-10T09:53:26.322Z"
   },
   {
    "duration": 140,
    "start_time": "2021-09-10T09:54:28.937Z"
   },
   {
    "duration": 594,
    "start_time": "2021-09-10T09:57:26.089Z"
   },
   {
    "duration": 331,
    "start_time": "2021-09-10T09:59:15.576Z"
   },
   {
    "duration": 528,
    "start_time": "2021-09-10T10:00:20.359Z"
   },
   {
    "duration": 374,
    "start_time": "2021-09-10T10:00:26.072Z"
   },
   {
    "duration": 24,
    "start_time": "2021-09-10T10:00:33.350Z"
   },
   {
    "duration": 1579,
    "start_time": "2021-09-10T10:06:45.561Z"
   },
   {
    "duration": 3,
    "start_time": "2021-09-10T10:06:47.143Z"
   },
   {
    "duration": 38,
    "start_time": "2021-09-10T10:06:47.150Z"
   },
   {
    "duration": 84,
    "start_time": "2021-09-10T10:06:47.191Z"
   },
   {
    "duration": 21,
    "start_time": "2021-09-10T10:06:47.277Z"
   },
   {
    "duration": 5,
    "start_time": "2021-09-10T10:06:47.301Z"
   },
   {
    "duration": 81,
    "start_time": "2021-09-10T10:06:47.309Z"
   },
   {
    "duration": 99,
    "start_time": "2021-09-10T10:06:47.469Z"
   },
   {
    "duration": 107,
    "start_time": "2021-09-10T10:06:47.575Z"
   },
   {
    "duration": 182,
    "start_time": "2021-09-10T10:06:47.689Z"
   },
   {
    "duration": 1166,
    "start_time": "2021-09-10T10:18:10.977Z"
   },
   {
    "duration": 3,
    "start_time": "2021-09-10T10:18:12.145Z"
   },
   {
    "duration": 58,
    "start_time": "2021-09-10T10:18:12.150Z"
   },
   {
    "duration": 36,
    "start_time": "2021-09-10T10:18:13.880Z"
   },
   {
    "duration": 15,
    "start_time": "2021-09-10T10:18:17.611Z"
   },
   {
    "duration": 4,
    "start_time": "2021-09-10T10:18:21.208Z"
   },
   {
    "duration": 17,
    "start_time": "2021-09-10T10:18:21.921Z"
   },
   {
    "duration": 17,
    "start_time": "2021-09-10T10:18:22.425Z"
   },
   {
    "duration": 8,
    "start_time": "2021-09-10T10:18:22.712Z"
   },
   {
    "duration": 113,
    "start_time": "2021-09-10T11:20:19.217Z"
   }
  ],
  "kernelspec": {
   "display_name": "Python 3",
   "language": "python",
   "name": "python3"
  },
  "language_info": {
   "codemirror_mode": {
    "name": "ipython",
    "version": 3
   },
   "file_extension": ".py",
   "mimetype": "text/x-python",
   "name": "python",
   "nbconvert_exporter": "python",
   "pygments_lexer": "ipython3",
   "version": "3.7.8"
  },
  "toc": {
   "base_numbering": 1,
   "nav_menu": {},
   "number_sections": true,
   "sideBar": true,
   "skip_h1_title": true,
   "title_cell": "Содержание",
   "title_sidebar": "Contents",
   "toc_cell": true,
   "toc_position": {},
   "toc_section_display": true,
   "toc_window_display": true
  }
 },
 "nbformat": 4,
 "nbformat_minor": 2
}
